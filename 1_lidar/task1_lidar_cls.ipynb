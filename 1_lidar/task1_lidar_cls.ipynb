{
 "cells": [
  {
   "cell_type": "code",
   "execution_count": 12,
   "metadata": {},
   "outputs": [
    {
     "name": "stdout",
     "output_type": "stream",
     "text": [
      "(34720, 4)\n",
      "number of estimated clusters : 54\n"
     ]
    }
   ],
   "source": [
    "import matplotlib.pyplot as plt\n",
    "import json\n",
    "import numpy as np \n",
    "import mayavi.mlab\n",
    "import sklearn.cluster\n",
    "from sklearn import metrics\n",
    "\n",
    "file_data = np.fromfile('/home/jidan/Documents/me5413/1_lidar/lidar_data/frame2.pcd.bin', dtype=np.float32)\n",
    "points = file_data.reshape((-1, 5))[:, :4]\n",
    "print(np.shape(points))\n",
    "# Data : (x, y, z, intensity)\n",
    "\n",
    "x = points[:, 0]  # x position of point\n",
    "y = points[:, 1]  # y position of point\n",
    "z = points[:, 2]  # z position of point\n",
    "r = points[:, 3]  # reflectance value of point\n",
    "d = np.sqrt(x ** 2 + y ** 2)  # Map Distance from sensor\n",
    "degr = np.degrees(np.arctan(z / d))\n",
    " \n",
    "vals = 'height'\n",
    "if vals == \"height\":\n",
    "    col = z\n",
    "else:\n",
    "    col = d\n",
    "\n",
    "def clustering(points, method):\n",
    "    if method == 'dbscan':\n",
    "        ## Do Clustering \n",
    "        db = sklearn.cluster.DBSCAN(eps=0.5, min_samples=5).fit(points[:,0:3])\n",
    "        labels_db = db.labels_\n",
    "\n",
    "        # Number of clusters in labels, ignoring noise if present.\n",
    "        n_clusters_ = len(set(labels_db)) - (1 if -1 in labels_db else 0)\n",
    "        n_noise_ = list(labels_db).count(-1)\n",
    "\n",
    "        print(\"Estimated number of clusters: %d\" % n_clusters_)\n",
    "        print(\"Estimated number of noise points: %d\" % n_noise_)\n",
    "        return labels_db\n",
    "\n",
    "    if method == 'kmeans':\n",
    "        kmeans = sklearn.cluster.KMeans(n_clusters=70, random_state=0, n_init=\"auto\").fit(points)\n",
    "        labels_km = kmeans.labels_\n",
    "        return labels_km\n",
    "\n",
    "    if method == 'meanshift':\n",
    "        # The following bandwidth can be automatically detected using\n",
    "        bandwidth = sklearn.cluster.estimate_bandwidth(points, quantile=0.1, n_samples=500)\n",
    "\n",
    "        ms = sklearn.cluster.MeanShift(bandwidth=bandwidth, bin_seeding=True)\n",
    "        ms.fit(points)\n",
    "        labels_ms = ms.labels_\n",
    "        cluster_centers = ms.cluster_centers_\n",
    "\n",
    "        labels_unique = np.unique(labels_ms)\n",
    "        n_clusters_ = len(labels_unique)\n",
    "\n",
    "        print(\"number of estimated clusters : %d\" % n_clusters_)\n",
    "        return labels_ms\n",
    "\n",
    "    if method == 'optics':\n",
    "        clust = sklearn.cluster.OPTICS(min_samples=50, xi=0.05, min_cluster_size=0.05)\n",
    "\n",
    "        # Run the fit\n",
    "        clust.fit(points)\n",
    "        labels_op = clust.labels_\n",
    "        return labels_op\n",
    "\n",
    "#Clustering\n",
    "method = 'meanshift'  #Options: 'kmeans','optics','meanshift'\n",
    "labels = clustering(points, method)\n",
    "\n",
    "#Visualization and data saving\n",
    "fig = mayavi.mlab.figure(bgcolor=(0, 0, 0), size=(640, 500))\n",
    "mayavi.mlab.points3d(x, y, z,\n",
    "                     labels,  # Values used for Color\n",
    "                     mode=\"point\",\n",
    "                     colormap='spectral',  # 'bone', 'copper', 'gnuplot'\n",
    "                     # color=(0, 1, 0),   # Used a fixed (r,g,b) instead\n",
    "                     figure=fig,\n",
    "                     )\n",
    "mayavi.mlab.show()\n",
    "\n",
    "#Data saving\n",
    "points[:,3] = labels\n",
    "points = points.tolist()\n",
    "with open('lidar_clustering.json', 'w') as f:\n",
    "    json.dump(points, f)"
   ]
  }
 ],
 "metadata": {
  "kernelspec": {
   "display_name": "base",
   "language": "python",
   "name": "python3"
  },
  "language_info": {
   "codemirror_mode": {
    "name": "ipython",
    "version": 3
   },
   "file_extension": ".py",
   "mimetype": "text/x-python",
   "name": "python",
   "nbconvert_exporter": "python",
   "pygments_lexer": "ipython3",
   "version": "3.9.13 (main, Aug 25 2022, 23:26:10) \n[GCC 11.2.0]"
  },
  "orig_nbformat": 4,
  "vscode": {
   "interpreter": {
    "hash": "2013534c70eb131bc1ef82df7b2a81a82658ec77093eef0bf00387f699b3e2a8"
   }
  }
 },
 "nbformat": 4,
 "nbformat_minor": 2
}
